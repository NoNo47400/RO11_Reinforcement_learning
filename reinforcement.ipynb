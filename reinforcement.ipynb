{
 "cells": [
  {
   "cell_type": "code",
   "execution_count": 1,
   "id": "12e5e042",
   "metadata": {},
   "outputs": [
    {
     "name": "stdout",
     "output_type": "stream",
     "text": [
      "3\n"
     ]
    }
   ],
   "source": [
    "import numpy as np"
   ]
  },
  {
   "cell_type": "markdown",
   "id": "d75de6e4",
   "metadata": {},
   "source": [
    "We define the transition matrices as follows:\n",
    "\n",
    "$$\n",
    "T(S,a0,S') =\n",
    "\\begin{bmatrix}\n",
    "0 & 0 & 0 & 0 \\\\\n",
    "0 & 1-x & 0 & x \\\\\n",
    "1-y & 0 & 0 & y \\\\\n",
    "1 & 0 & 0 & 0\n",
    "\\end{bmatrix}\n",
    "$$\n",
    "\n",
    "$$\n",
    "T(S,a1,S') =\n",
    "\\begin{bmatrix}\n",
    "0 & 1 & 0 & 0 \\\\\n",
    "0 & 0 & 0 & 0 \\\\\n",
    "0 & 0 & 0 & 0 \\\\\n",
    "0 & 0 & 0 & 0\n",
    "\\end{bmatrix}\n",
    "$$\n",
    "\n",
    "$$\n",
    "T(S,a2,S') =\n",
    "\\begin{bmatrix}\n",
    "0 & 0 & 1 & 0 \\\\\n",
    "0 & 0 & 0 & 0 \\\\\n",
    "0 & 0 & 0 & 0 \\\\\n",
    "0 & 0 & 0 & 0\n",
    "\\end{bmatrix}\n",
    "$$\n",
    "\n",
    "With the reward vector:\n",
    "\n",
    "$$\n",
    "R = [0, 0, 1, 10]\n",
    "$$\n",
    "\n",
    "Wa can so write the possible policies as:\n",
    "\n",
    "$$\n",
    "\\pi : S_0 \\rightarrow a_1, a_2 \\\\\n",
    "\\pi : S_{1,2,3} \\rightarrow a_0\n",
    "$$\n",
    "\n",
    "We can write the Bellman equations for the optimal value function \\( V^* \\) as follows:\n",
    "$$\n",
    "V^*(S) = R(S) + \\gamma \\max_{a} \\sum_{S'} T(S,a,S') V^*(S')\n",
    "$$\n",
    "Where \\( \\gamma \\) is the discount factor.\n",
    "\n",
    "To solve for \\( V^* \\), we can set up the equations for each state:\n",
    "\n",
    "1. For state 0:\n",
    "   $$\n",
    "   V^*(S_0) = R(S_0) + \\gamma \\max(V^*(S_1), V^*(S_2))\\\\\n",
    "   V^*(S_0) = \\gamma \\max(V^*(S_1), V^*(S_2))\n",
    "   $$\n",
    "\n",
    "2. For state 1:\n",
    "   $$\n",
    "   V^*(S_1) = R(S_1) + \\gamma ((1-x)V^*(S_1) + xV^*(S_3)) \\\\\n",
    "   V^*(S_1) = \\gamma ((1-x)V^*(S_1) + xV^*(S_3))\n",
    "   $$\n",
    "\n",
    "3. For state 2:\n",
    "   $$\n",
    "    V^*(S_2) = R(S_2) + \\gamma \\max((1-y)V^*(S_0) + yV^*(S_3))\\\\\n",
    "    V^*(S_2) = 1 + \\gamma ((1-y)V^*(S_0) + yV^*(S_3))\n",
    "   $$   \n",
    "\n",
    "4. For state 3:\n",
    "   $$\n",
    "    V^*(S_3) = R(S_3) + \\gamma \\max(V^*(S_0)) \\\\\n",
    "    V^*(S_3) = 10 + \\gamma V^*(S_0)\n",
    "    $$"
   ]
  },
  {
   "cell_type": "code",
   "execution_count": null,
   "id": "ad2eb441",
   "metadata": {},
   "outputs": [],
   "source": [
    "R = [0, 0, 1, 10]\n",
    "gamma = 0.9 \n",
    "x = 0.25\n",
    "y = 0.25\n",
    "V_star = [R[0]+gamma*max(1*V_star[1], 1*V_star[2]), R[1]+gamma*max(x*V_star[3]+(1-x)*V_star[1]), R[2]+gamma*max(y*V_star[3]+(1-y)*V_star[0]), R[3]+gamma*max(1*V_star[0])]"
   ]
  },
  {
   "cell_type": "markdown",
   "id": "73493605",
   "metadata": {},
   "source": [
    "Knowing these informations we could determine a value for $x$, that for all $\\gamma \\in [0,1]$, and $y \\in [0,1]$, $\\pi^*(S_0) = a_2$.\n",
    "\n",
    "We know that $\\pi^*(S_0) = arg max_a \\sum_{S^t} T(S_0,a,S_0')V^*(S_0')$\n",
    "\n",
    "And so it will be equal to : $\\pi^*(S_0) = arg max_a (V^*(S_1), V^*(S_2))$\n",
    "\n",
    "We know need to prove that $V^*(S_2)>V^*(S_1)$\n",
    "\n",
    "To do that, we'll take $x=0$ and reformulate $V^*(S_1)$ and $V^*(S_2)$ Bellman equations (Take in account that $R(S) is not function of a$) :\n",
    "\n",
    "$$\n",
    "V^*(S_1) = \\gamma ((1-x)V^*(S_1) + xV^*(S_3)) \\\\\n",
    "V^*(S_1) = \\gamma V^*(S_1) \n",
    "V^*(S_1) - \\gamma V^*(S_1) = 0\n",
    "V^*(S_1) = 0\n",
    "$$\n",
    "\n",
    "$$\n",
    "V^*(S_2) = \\gamma ((1-y)V^*(S_0) + yV^*(S_3)) \\\\\n",
    "V^*(S_2) = \\gamma ((1-y)V^*(S_0) + y \\gamma V^*(S_0)) \\\\\n",
    "V^*(S_2) = \\gamma V^*(S_0) (1-y + y \\gamma) \\\\\n",
    "V^*(S_2) = \\gamma V^*(S_0) (1+y(\\gamma-1)) \\\\\n",
    "$$\n",
    "\n",
    "So $V^*(S_2)>V^*(S_1)$ for any $y\\neq 0$"
   ]
  },
  {
   "cell_type": "markdown",
   "id": "4b004012",
   "metadata": {},
   "source": [
    "We can now try to determine a value for $y$, that for all $\\gamma \\in [0,1]$, and $x > 0$, $\\pi^*(S_0) = a_1$.\n",
    "\n",
    "We know that $\\pi^*(S_0) = arg max_a \\sum_{S^t} T(S_0,a,S_0')V^*(S_0')$\n",
    "\n",
    "And so it will be equal to : $\\pi^*(S_0) = arg max_a (V^*(S_1), V^*(S_2))$\n",
    "\n",
    "We know need to prove that $V^*(S_2)<V^*(S_1)$\n",
    "\n",
    "# TODO"
   ]
  },
  {
   "cell_type": "code",
   "execution_count": null,
   "id": "8f46d839",
   "metadata": {},
   "outputs": [],
   "source": []
  }
 ],
 "metadata": {
  "kernelspec": {
   "display_name": "Python 3",
   "language": "python",
   "name": "python3"
  },
  "language_info": {
   "codemirror_mode": {
    "name": "ipython",
    "version": 3
   },
   "file_extension": ".py",
   "mimetype": "text/x-python",
   "name": "python",
   "nbconvert_exporter": "python",
   "pygments_lexer": "ipython3",
   "version": "3.13.7"
  }
 },
 "nbformat": 4,
 "nbformat_minor": 5
}
