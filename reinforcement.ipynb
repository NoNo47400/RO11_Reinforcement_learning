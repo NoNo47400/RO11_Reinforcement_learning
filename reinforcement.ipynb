{
 "cells": [
  {
   "cell_type": "code",
   "execution_count": null,
   "id": "12e5e042",
   "metadata": {},
   "outputs": [
    {
     "name": "stdout",
     "output_type": "stream",
     "text": [
      "3\n"
     ]
    }
   ],
   "source": [
    "import numpy as np"
   ]
  },
  {
   "cell_type": "code",
   "execution_count": null,
   "id": "ad2eb441",
   "metadata": {},
   "outputs": [],
   "source": [
    "R = [0, 0, 1, 10]\n",
    "gamma = 0.9\n",
    "x = 0.5\n",
    "y = 0.5\n",
    "V_star = [R[0]+gamma*max(1*V_star[1], 1*V_star[2]), R[1]+gamma*max(x*V_star[3]+(1-x)*V_star[1]), R[2]+gamma*max(y*V_star[3]+(1-y)*V_star[0]), R[3]+gamma*max(1*V_star[0])]"
   ]
  },
  {
   "cell_type": "code",
   "execution_count": null,
   "id": "8f46d839",
   "metadata": {},
   "outputs": [],
   "source": []
  }
 ],
 "metadata": {
  "kernelspec": {
   "display_name": "Python 3",
   "language": "python",
   "name": "python3"
  },
  "language_info": {
   "codemirror_mode": {
    "name": "ipython",
    "version": 3
   },
   "file_extension": ".py",
   "mimetype": "text/x-python",
   "name": "python",
   "nbconvert_exporter": "python",
   "pygments_lexer": "ipython3",
   "version": "3.13.7"
  }
 },
 "nbformat": 4,
 "nbformat_minor": 5
}
